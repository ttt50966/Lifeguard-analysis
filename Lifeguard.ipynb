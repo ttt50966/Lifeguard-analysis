{
  "cells": [
    {
      "metadata": {
        "trusted": true
      },
      "cell_type": "code",
      "source": "import pandas as pd\nimport matplotlib.pyplot as plt\nimport numpy as np\nfrom ipywidgets import IntProgress\nfrom IPython.display import display\nimport time",
      "execution_count": 111,
      "outputs": []
    },
    {
      "metadata": {
        "trusted": true
      },
      "cell_type": "code",
      "source": "df = pd.DataFrame()\nd_min = 801\nd_max = 944\np = IntProgress(min = d_min,max = d_max-1)\ndisplay(p)",
      "execution_count": 124,
      "outputs": [
        {
          "output_type": "display_data",
          "data": {
            "application/vnd.jupyter.widget-view+json": {
              "model_id": "7a66e2ab8833429da1f7d20dc55b2bb1",
              "version_minor": 0,
              "version_major": 2
            },
            "text/plain": "IntProgress(value=801, max=943, min=801)"
          },
          "metadata": {}
        }
      ]
    },
    {
      "metadata": {
        "trusted": true
      },
      "cell_type": "code",
      "source": "for page in range(d_min,d_max):\n    data = pd.read_html(\"http://www.lifeguard.utaipei.edu.tw/D01.php?cid=0&keys=&r1=&page=%d\" %(page))\n    df = df.append(data[0][1:], ignore_index=True)\n    p.value= int(page)\n    time.sleep(0.1)",
      "execution_count": 125,
      "outputs": []
    },
    {
      "metadata": {
        "trusted": true
      },
      "cell_type": "code",
      "source": "df.columns = data[0].loc[0].values\ndf_csv = df.to_csv()",
      "execution_count": 126,
      "outputs": []
    },
    {
      "metadata": {
        "trusted": true
      },
      "cell_type": "code",
      "source": "with open('data_%d-%d.csv' %(d_min, d_max-1), 'w') as f:\n    f.write(df_csv)",
      "execution_count": 127,
      "outputs": []
    },
    {
      "metadata": {
        "trusted": true
      },
      "cell_type": "code",
      "source": "",
      "execution_count": null,
      "outputs": []
    }
  ],
  "metadata": {
    "kernelspec": {
      "name": "python36",
      "display_name": "Python 3.6",
      "language": "python"
    },
    "language_info": {
      "mimetype": "text/x-python",
      "nbconvert_exporter": "python",
      "name": "python",
      "pygments_lexer": "ipython3",
      "version": "3.6.6",
      "file_extension": ".py",
      "codemirror_mode": {
        "version": 3,
        "name": "ipython"
      }
    }
  },
  "nbformat": 4,
  "nbformat_minor": 2
}